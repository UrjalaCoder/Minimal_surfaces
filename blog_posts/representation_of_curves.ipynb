{
 "cells": [
  {
   "cell_type": "markdown",
   "metadata": {
    "vscode": {
     "languageId": "plaintext"
    }
   },
   "source": [
    "# Curves and surfaces with differential forms"
   ]
  },
  {
   "cell_type": "markdown",
   "metadata": {
    "vscode": {
     "languageId": "plaintext"
    }
   },
   "source": [
    "# Introduction\n",
    "\n",
    "In this blog post, we will continue our exploration of Plateau's problem.  \n",
    "\n",
    "We start to discuss the geometric measure theory based approach, specifically, we want to introduce a representation of curves and surfaces in 3-dimensional space using _integral currents_ and _differential forms_. This approach was created by Stephanie Wang and Albert Chen in their paper \"Computing Minimal Surfaces with Differential Forms\", published in 2021.\n",
    "\n",
    "# Differential forms\n",
    "\n",
    "Formally, a differential form $\\omega$ is defined as a linear functional on the tangent bundle of some manifold. Essentially, $\\omega$ \"eats\" one or more tangent vectors $v_i$ of the manifold at some point and "
   ]
  }
 ],
 "metadata": {
  "language_info": {
   "name": "python"
  }
 },
 "nbformat": 4,
 "nbformat_minor": 2
}
