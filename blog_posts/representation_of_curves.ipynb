{
 "cells": [
  {
   "cell_type": "markdown",
   "metadata": {
    "vscode": {
     "languageId": "plaintext"
    }
   },
   "source": [
    "# Curves and surfaces with differential forms"
   ]
  },
  {
   "cell_type": "markdown",
   "metadata": {
    "vscode": {
     "languageId": "plaintext"
    }
   },
   "source": [
    "# Introduction\n",
    "\n",
    "In this blog post, we will continue our exploration of Plateau's problem.  \n",
    "\n",
    "We start to discuss the geometric measure theory based approach, specifically, we want to introduce a representation of curves and surfaces in 3-dimensional space using _integral currents_ and _differential forms_. This approach was created by Stephanie Wang and Albert Chen in their paper \"Computing Minimal Surfaces with Differential Forms\", published in 2021.\n",
    "\n",
    "# Differential forms\n",
    "\n",
    "Formally, a differential form $\\omega$ is defined as a linear functional on the tangent bundle of some manifold. \n",
    "\n",
    "Essentially, $\\omega$ \"eats\" one or more tangent vectors $v_i$ of the manifold at some point and spits out a scalar number $\\omega(v_1, v_2, \\dots, v_n) \\in \\mathbb{R}$. A $k$-differential form $\\omega$ \"eats\" $k$ tangent vectors. \n",
    "\n",
    "Suppose that our manifold $M$ is just the euclidean plane $\\mathbb{R}^2$ and suppose a 1-form would be $\\omega = 3x dx - 4 y^2 dy$. Suppose also that we have a vector field $X$ defined on the plane, $X(x, y) = x^2 \\frac{\\partial}{\\partial x} - 9 \\frac{\\partial}{\\partial y}$. \n",
    "\n",
    "Then we can compute the application of the 1-form $\\omega$ to the vector field $X$,\n",
    "\n",
    "$$\n",
    "\\begin{align}\n",
    "\\omega(X) &= (3x dx - 4 y^2 dy) (x^2 \\frac{\\partial}{\\partial x} - 9 \\frac{\\partial}{\\partial y}) \\\\\n",
    "\\omega(X) &= 3x dx(x^2 \\frac{\\partial}{\\partial x} - 9 \\frac{\\partial}{\\partial y}) - 4y^2dy(x^2 \\frac{\\partial}{\\partial x} - 9 \\frac{\\partial}{\\partial y}) \\\\\n",
    "\\omega(X) &= 3x^3 + 36y^2\n",
    "\\end{align}\n",
    "$$\n",
    "\n",
    "using the property of $dx^i(\\frac{\\partial}{\\partial x_j}) = \\delta_i^j$ for coordinate components $i$ and $j$.\n",
    "\n",
    "Essentially, now we have defined a real number to each point on the manifold $M$ corresponding to how well the vector field $X$ aligns with the 1-form $\\omega$.\n",
    "\n",
    "# Curve representation\n",
    "\n",
    "Now, we can create a differential form representation for some closed 3-dimensional curve $\\Gamma \\subset \\mathbb{R}^3$ using some well-known definitions in differential geometry.\n",
    "\n",
    "Assuming we have a parameterization $\\gamma : [0, 1] \\to \\mathbb{R}^3, \\gamma(t) = (x(t), y(t), z(t))$ and the curve is smooth, we can define a vector field on $\\Gamma$ by assigning the tangent vector of the curve to each point on $\\Gamma$. "
   ]
  }
 ],
 "metadata": {
  "language_info": {
   "name": "python"
  }
 },
 "nbformat": 4,
 "nbformat_minor": 2
}
