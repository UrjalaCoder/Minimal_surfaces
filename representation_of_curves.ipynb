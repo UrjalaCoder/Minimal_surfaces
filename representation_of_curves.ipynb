{
 "cells": [
  {
   "cell_type": "markdown",
   "metadata": {
    "vscode": {
     "languageId": "plaintext"
    }
   },
   "source": [
    "# Curves and surfaces with differential forms"
   ]
  },
  {
   "cell_type": "markdown",
   "metadata": {
    "vscode": {
     "languageId": "plaintext"
    }
   },
   "source": [
    "# Introduction\n",
    "\n",
    "In this blog post, we will continue our exploration of Plateau's problem.  \n",
    "\n",
    "We start to discuss the geometric measure theory based approach, specifically, we want to introduce a representation of curves and surfaces in 3-dimensional space using _integral currents_ and _differential forms_. This approach was created by Stephanie Wang and Albert Chen in their paper \"Computing Minimal Surfaces with Differential Forms\", published in 2021.\n",
    "\n",
    "# Differential forms\n",
    "\n",
    "Formally, a differential form $\\omega$ is defined as an alternating linear functional on the tangent bundle of some manifold.   \n",
    "Essentially, $\\omega$ \"eats\" one or more tangent vectors $v_i$ of the manifold at some point and spits out a scalar number $\\omega(v_1, v_2, \\dots, v_n) \\in \\mathbb{R}$. A $k$-differential form $\\omega$ \"eats\" $k$ tangent vectors.   \n",
    "The alternating property means that for any combination of tangent vectors $v_1, v_2, \\dots, v_n$ and for any $i, j \\leq n$ we have $\\omega(v_1, v_2, \\dots, v_i, v_j, \\dots, v_n) = -\\omega(v_1, v_2, \\dots, v_j, v_i, \\dots, v_n)$. Intuitively, this means that swapping any input vectors to the differential form introduces a sign change, this is related to how we can integrate differential forms to obtain measures of length, area and volume."
   ]
  },
  {
   "cell_type": "markdown",
   "metadata": {},
   "source": [
    "## Example\n",
    "Suppose that our manifold $M$ is just the euclidean plane $\\mathbb{R}^2$ and suppose a 1-form would be $\\omega = 3x dx - 4 y^2 dy$. Suppose also that we have a vector field $X$ defined on the plane, $X(x, y) = x^2 \\frac{\\partial}{\\partial x} - 9 \\frac{\\partial}{\\partial y}$.   \n",
    "Then we can compute the application of the 1-form $\\omega$ to the vector field $X$,\n",
    "\n",
    "$$\n",
    "\\begin{align}\n",
    "\\omega(X) &= (3x dx - 4 y^2 dy) (x^2 \\frac{\\partial}{\\partial x} - 9 \\frac{\\partial}{\\partial y}) \\\\\n",
    "\\omega(X) &= 3x dx(x^2 \\frac{\\partial}{\\partial x} - 9 \\frac{\\partial}{\\partial y}) - 4y^2dy(x^2 \\frac{\\partial}{\\partial x} - 9 \\frac{\\partial}{\\partial y}) \\\\\n",
    "\\omega(X) &= 3x^3 + 36y^2\n",
    "\\end{align}\n",
    "$$\n",
    "\n",
    "using the property of $dx^i(\\frac{\\partial}{\\partial x_j}) = \\delta_i^j$ for coordinate components $i$ and $j$.\n",
    "\n",
    "Essentially, now we have defined a real number to each point on the manifold $M$ corresponding to how well the vector field $X$ aligns with the 1-form $\\omega$."
   ]
  },
  {
   "cell_type": "markdown",
   "metadata": {},
   "source": [
    "# Curve representation\n",
    "\n",
    "Now, we can create a differential form representation for some closed 3-dimensional curve $\\Gamma \\subset \\mathbb{R}^3$ using some well-known definitions in differential geometry.\n",
    "\n",
    "Assuming we have a parameterization $\\gamma : [0, 1] \\to \\mathbb{R}^3, \\gamma(t) = (x_1(t), x_2(t), x_3(t))$ and the curve is smooth, we can define a vector field on $\\Gamma$ by assigning the tangent vector of the curve to each point on $\\Gamma$. The tangent vector field is therefore $T_\\Gamma(p) = \\gamma'(t) = \\sum_{i = 1}^3 \\frac{\\partial x_i}{\\partial t} \\frac{\\partial}{\\partial x_i}$ for a point $p = \\gamma(t)$.\n",
    "\n",
    "Now lifting this tangent vector field $T_\\Gamma$ to the ambient space of $\\mathbb{R}^3$, we have a representation of the curve on $\\mathbb{R}^3$. However, for any point not on the curve, we have not defined the tangent vector field. \n",
    "\n",
    "To define $T_\\Gamma$ on the ambient space, we want the vector field to only be localized at those points which lie on the curve. Therefore, we want something like a dirac-delta \"function\" or rather _distribution_ $\\delta$. In the spirit of the dirac distribution, we can define the tangent vector field on the ambient space by considering the sequence of vector fields $v^\\epsilon_\\Gamma$\n",
    "\n",
    "\n",
    "$$\n",
    "v^\\epsilon_\\Gamma (x) =\n",
    "\\begin{cases}\n",
    "\\frac{1}{\\epsilon^2 \\pi} T_\\Gamma (\\text{ClosestPoint}(x, \\Gamma)), & \\text{if } \\text{dist}(x, \\Gamma) \\leq \\epsilon \\\\\n",
    "0, & \\text{otherwise}\n",
    "\\end{cases}\n",
    "$$\n",
    "\n",
    "These vector fields are defined for all points $x \\in \\mathbb{R}^3$ but characterize the curve $\\Gamma$ in the limit as $\\epsilon \\to 0$."
   ]
  },
  {
   "cell_type": "markdown",
   "metadata": {},
   "source": [
    "## Visualization of curves\n",
    "\n",
    "To visualize these $\\delta_\\Gamma$ forms, we can look at some element of the sequence of vector fields, letting $\\epsilon = 0.1$ for example.\n",
    "\n",
    "Practically, we utilize Python and the community version of Manim to visualize these fields and also use them to visualize our journey going forward as well.  \n",
    "In these blog posts, we only cover the relevant parts of the code and the related main ideas, the full code is available at Github https://github.com/UrjalaCoder/Minimal_surfaces."
   ]
  },
  {
   "cell_type": "code",
   "execution_count": 1,
   "metadata": {},
   "outputs": [
    {
     "name": "stdout",
     "output_type": "stream",
     "text": [
      "The manim module is not an IPython extension.\n"
     ]
    }
   ],
   "source": [
    "%load_ext manim"
   ]
  },
  {
   "cell_type": "code",
   "execution_count": null,
   "metadata": {},
   "outputs": [
    {
     "name": "stdout",
     "output_type": "stream",
     "text": [
      "building the scene...\n"
     ]
    },
    {
     "data": {
      "text/html": [
       "<pre style=\"white-space:pre;overflow-x:auto;line-height:normal;font-family:Menlo,'DejaVu Sans Mono',consolas,'Courier New',monospace\">Manim Community <span style=\"color: #008000; text-decoration-color: #008000\">v0.18.1</span>\n",
       "\n",
       "</pre>\n"
      ],
      "text/plain": [
       "Manim Community \u001b[32mv0.\u001b[0m\u001b[32m18.1\u001b[0m\n",
       "\n"
      ]
     },
     "metadata": {},
     "output_type": "display_data"
    },
    {
     "name": "stderr",
     "output_type": "stream",
     "text": [
      "                                                            \r"
     ]
    },
    {
     "data": {
      "text/html": [
       "<video src=\"media/jupyter/scene@2025-03-26@19-36-36.mp4\" controls autoplay loop style=\"max-width: 60%;\"  >\n",
       "      Your browser does not support the <code>video</code> element.\n",
       "    </video>"
      ],
      "text/plain": [
       "<IPython.core.display.Video object>"
      ]
     },
     "metadata": {},
     "output_type": "display_data"
    }
   ],
   "source": [
    "%%manim -ql -v WARNING scene\n",
    "from manim import *\n",
    "import numpy as np\n",
    "from src.grid import Grid\n",
    "from src.vector_field import VectorField\n",
    "from src.utils.curve_generator import ellipse_function\n",
    "from src.animation.animate_field import build_vector_field_scene\n",
    "from src.utils.numerical_methods import closest_point_on_curve, numerical_tangent_function\n",
    "\n",
    "# Instantiate the grid\n",
    "grid = Grid(resolution=32)\n",
    "\n",
    "# Instantiate the curve\n",
    "curve_function = lambda t: ellipse_function(t, a = 0.4, b = 0.4, base_point=[0.5, 0.5, 0.5])\n",
    "\n",
    "# Actual points of the curve\n",
    "t_range = np.linspace(0, 1, grid.res[0])\n",
    "curve = np.array([curve_function(t) for t in t_range])\n",
    "epsilon = 0.1\n",
    "\n",
    "# Visualize the curve\n",
    "field = VectorField(grid=grid)\n",
    "def dirac_delta_form(point: np.array):\n",
    "   # Do not display the whole set of vectors\n",
    "   if abs(point[2] - 0.5) > 0.2:\n",
    "      return np.zeros_like(point)\n",
    "   \n",
    "   # Finding the closest point to the curve\n",
    "   q, t_closest = closest_point_on_curve(point, curve)\n",
    "   \n",
    "   # Tangent vector value in the point on the curve\n",
    "   if np.sum((q - point) ** 2) <= (epsilon ** 2):\n",
    "      tangent = numerical_tangent_function(t_range[t_closest], curve_function, h = 0.001)\n",
    "      return tangent * (1.0 / (np.pi * epsilon ** 2)) * 0.1 # Coefficient 0.1 is for visualization purposes\n",
    "\n",
    "   return np.zeros_like(point)\n",
    "field.set_vectors_from_function(dirac_delta_form)\n",
    "print(\"building the scene...\")\n",
    "scene = build_vector_field_scene(grid, field, curve, max_vectors=10)\n"
   ]
  },
  {
   "cell_type": "markdown",
   "metadata": {},
   "source": [
    "### Dirac-$\\delta$ 2-Form Representation\n",
    "\n",
    "Instead of describing the curve using a parametric representation alone, we adopt the **geometric measure theory** perspective, where the curve is represented as a **current** in $\\mathbb{R}^3$.\n",
    "\n",
    "The **Dirac-$\\delta$ 2-form** associated with $\\Gamma$ is given by:\n",
    "$$\n",
    "\\delta_{\\Gamma} \\in \\Omega^2(\\mathbb{R}^3),\n",
    "$$\n",
    "which satisfies the fundamental integral identity:\n",
    "$$\n",
    "\\int_{\\mathbb{R}^3} \\omega \\wedge \\delta_{\\Gamma} = \\int_{\\Gamma} \\omega,\n",
    "$$\n",
    "for any smooth test 2-form $\\omega$.\n",
    "\n",
    "This formulation naturally encodes the boundary conditions when solving the Plateau problem.\n",
    "\n",
    "### Convergence of Integrals and Dirac-$\\delta$ Representation\n",
    "\n",
    "The Dirac-$\\delta$ representation of $\\Gamma$ can be understood as the limit of integrals involving smooth vector fields. Consider a sequence of smooth approximations $V_{\\Gamma}^{\\epsilon}$ defined in a small neighborhood around $\\Gamma$, given by\n",
    "$$\n",
    "V_{\\Gamma}^{\\epsilon}(x) = \\frac{1}{\\epsilon^2} \\sum_{p \\in \\Gamma} T_{\\Gamma}(p) \\cdot \\chi_\\epsilon(x - p),\n",
    "$$\n",
    "where $\\chi_\\epsilon(x)$ is a mollifier function that localizes the vector field around $\\Gamma$. Then, in the limit as $\\epsilon \\to 0$, the integral\n",
    "$$\n",
    "\\int_{\\mathbb{R}^3} V_{\\Gamma}^{\\epsilon} \\cdot X \\, dV\n",
    "$$\n",
    "for any smooth vector field $X$ converges to the line integral along $\\Gamma$:\n",
    "$$\n",
    "\\int_{\\Gamma} X \\cdot T_{\\Gamma} \\, ds.\n",
    "$$\n",
    "This illustrates how the Dirac-$\\delta$ 2-form emerges naturally as the weak limit of such integral representations.\n",
    "\n",
    "### Musical Isomorphism and Vector Field Representation\n",
    "\n",
    "Using the **musical isomorphism**, we can associate the Dirac-$\\delta$ 2-form with a **vector field** in $\\mathbb{R}^3$. Specifically,\n",
    "$$\n",
    "V_{\\Gamma} = (\\delta_{\\Gamma})^{\\sharp},\n",
    "$$\n",
    "where the **sharp operator** ($\\sharp$) transforms the 2-form into a vector field.\n",
    "\n",
    "This means that $V_{\\Gamma}$ is a **vector field perpendicular to the local tangent planes** of $\\delta_{\\Gamma}$, encoding the circulation of the curve in a distributional sense.\n",
    "\n",
    "---\n",
    "\n",
    "## Surface Representation via Differential Forms\n",
    "\n",
    "Once we have established a representation for curves, we can extend this idea to **surfaces**.\n",
    "\n",
    "A minimal surface $\\Sigma$ spanning a given boundary curve $\\Gamma$ is defined as a critical point of the **area functional**:\n",
    "$$\n",
    "\\text{Area}(\\Sigma) = \\int_{\\Sigma} dS.\n",
    "$$\n",
    "\n",
    "### Dirac-$\\delta$ 1-Form Representation\n",
    "\n",
    "Using the differential forms framework, we define the **Dirac-$\\delta$ 1-form** associated with $\\Sigma$ as:\n",
    "$$\n",
    "\\delta_{\\Sigma} \\in \\Omega^1(\\mathbb{R}^3),\n",
    "$$\n",
    "which satisfies the integral relation:\n",
    "$$\n",
    "\\int_{\\mathbb{R}^3} \\eta \\wedge \\delta_{\\Sigma} = \\int_{\\Sigma} \\eta,\n",
    "$$\n",
    "for any smooth test 1-form $\\eta$.\n",
    "\n",
    "### Convergence of Integrals for Surface Representation\n",
    "\n",
    "Similar to curves, the Dirac-$\\delta$ 1-form representation of $\\Sigma$ can be understood as the limit of integrals of smooth vector fields. Consider a sequence of smooth approximations $V_{\\Sigma}^{\\epsilon}$ defined in a small neighborhood around $\\Sigma$ by\n",
    "$$\n",
    "V_{\\Sigma}^{\\epsilon}(x) = \\frac{1}{\\epsilon} \\sum_{p \\in \\Sigma} N_{\\Sigma}(p) \\cdot \\chi_\\epsilon(x - p),\n",
    "$$\n",
    "where $N_{\\Sigma}$ is the unit normal vector field of $\\Sigma$ and $\\chi_\\epsilon$ is a mollifier function. Then, in the limit as $\\epsilon \\to 0$, the integral\n",
    "$$\n",
    "\\int_{\\mathbb{R}^3} V_{\\Sigma}^{\\epsilon} \\cdot X \\, dV\n",
    "$$\n",
    "for any smooth vector field $X$ converges to the flux integral over $\\Sigma$:\n",
    "$$\n",
    "\\int_{\\Sigma} X \\cdot N_{\\Sigma} \\, dS.\n",
    "$$\n",
    "This shows how the Dirac-$\\delta$ 1-form naturally arises as the weak limit of approximating smooth fields.\n",
    "\n",
    "### Musical Isomorphism and Surface Normal Representation\n",
    "\n",
    "Using the musical isomorphism, we express the normal field of the minimal surface as:\n",
    "$$\n",
    "N_{\\Sigma} = (\\delta_{\\Sigma})^{\\sharp},\n",
    "$$\n",
    "where the **sharp operator** ($\\sharp$) transforms the 1-form into a vector field.\n",
    "\n",
    "Thus, the minimal surface is represented by a **normal vector field perpendicular to its tangent planes**, making it well-suited for optimization formulations.\n",
    "\n",
    "---\n",
    "\n",
    "## Reformulating the Problem as Convex Optimization\n",
    "\n",
    "A key insight of Wang and Chern's approach is that **this differential form representation turns the Plateau problem into a convex optimization problem**. Instead of directly minimizing the area functional, we seek to minimize the **mass norm** of the current:\n",
    "$$\n",
    "\\|\\delta_{\\Sigma}\\|_{\\text{mass}} = \\sup_{\\|\\omega\\|_{\\max} \\leq 1} \\int_{\\mathbb{R}^3} \\omega \\wedge \\delta_{\\Sigma}.\n",
    "$$\n",
    "This change of perspective **avoids the pitfalls of classical non-convex minimization** and ensures that the solution is the **true global minimum**, rather than a local minimum.\n",
    "\n",
    "---\n",
    "\n",
    "## Conclusion and Next Steps\n",
    "\n",
    "In this post, we introduced the **differential form representation** of curves and surfaces, laying the groundwork for a geometric measure theory-based approach to Plateau’s problem. This formulation provides a **convex optimization perspective**, allowing us to compute minimal surfaces more reliably than traditional numerical methods.\n",
    "\n",
    "In the next installment, we will dive deeper into the **numerical implementation** of this method, translating the mathematical formalism into practical algorithms. We will explore:\n",
    "\n",
    "- How to efficiently **discretize differential forms** on a computational grid,\n",
    "- How to **solve the convex optimization problem** using ADMM,\n",
    "- How to **visualize minimal surfaces** using this approach.\n",
    "\n",
    "By leveraging the **power of differential forms and convex optimization**, we gain a novel and elegant way to compute **true minimal surfaces**—a perspective that blends **differential geometry, numerical PDEs, and optimization** in a truly exciting way.\n",
    "\n",
    "Stay tuned!"
   ]
  },
  {
   "cell_type": "code",
   "execution_count": null,
   "metadata": {},
   "outputs": [],
   "source": []
  }
 ],
 "metadata": {
  "kernelspec": {
   "display_name": "minimal_surface",
   "language": "python",
   "name": "python3"
  },
  "language_info": {
   "codemirror_mode": {
    "name": "ipython",
    "version": 3
   },
   "file_extension": ".py",
   "mimetype": "text/x-python",
   "name": "python",
   "nbconvert_exporter": "python",
   "pygments_lexer": "ipython3",
   "version": "3.10.13"
  }
 },
 "nbformat": 4,
 "nbformat_minor": 2
}
