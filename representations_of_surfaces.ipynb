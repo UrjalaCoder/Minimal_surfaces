{
 "cells": [
  {
   "cell_type": "code",
   "execution_count": 1,
   "metadata": {},
   "outputs": [],
   "source": [
    "from manim import *\n",
    "import numpy as np"
   ]
  },
  {
   "cell_type": "code",
   "execution_count": 2,
   "metadata": {},
   "outputs": [
    {
     "data": {
      "text/plain": [
       "(3, 100, 100, 100)"
      ]
     },
     "execution_count": 2,
     "metadata": {},
     "output_type": "execute_result"
    }
   ],
   "source": [
    "grid_size = 0.01\n",
    "grid_point_count = int(1 / grid_size)\n",
    "single_axis = np.linspace(0, 1 - grid_size, grid_point_count)\n",
    "M = np.asarray(np.meshgrid(single_axis, single_axis, single_axis, indexing='ij'))\n",
    "X, Y, Z = M\n",
    "M.shape"
   ]
  },
  {
   "cell_type": "code",
   "execution_count": 3,
   "metadata": {},
   "outputs": [
    {
     "data": {
      "text/plain": [
       "array([[0.  , 0.  , 0.  ],\n",
       "       [0.  , 0.  , 0.01],\n",
       "       [0.  , 0.  , 0.02],\n",
       "       ...,\n",
       "       [0.99, 0.99, 0.97],\n",
       "       [0.99, 0.99, 0.98],\n",
       "       [0.99, 0.99, 0.99]], shape=(1000000, 3))"
      ]
     },
     "execution_count": 3,
     "metadata": {},
     "output_type": "execute_result"
    }
   ],
   "source": [
    "flattened_M = np.vstack([X.ravel(), Y.ravel(), Z.ravel()]).T\n",
    "flattened_M"
   ]
  },
  {
   "cell_type": "code",
   "execution_count": 4,
   "metadata": {},
   "outputs": [],
   "source": [
    "def curve_function(t_values) -> np.array:\n",
    "    base_point = np.array([0.5, 0.5, 0.5])\n",
    "    return base_point + 0.4 * np.asarray([np.cos(2 * np.pi * t_values), np.sin(2 * np.pi * t_values), np.zeros_like(t_values)]).T # simple circle in xy plane."
   ]
  },
  {
   "cell_type": "code",
   "execution_count": 5,
   "metadata": {},
   "outputs": [
    {
     "data": {
      "text/plain": [
       "(100, 3)"
      ]
     },
     "execution_count": 5,
     "metadata": {},
     "output_type": "execute_result"
    }
   ],
   "source": [
    "t_values = np.linspace(0, 1, grid_point_count * 1)\n",
    "simple_curve = curve_function(t_values)\n",
    "simple_curve.shape"
   ]
  },
  {
   "cell_type": "code",
   "execution_count": 6,
   "metadata": {},
   "outputs": [],
   "source": [
    "# Dirac delta vector field form\n",
    "def curve_tangent_function(t_values) -> np.array:\n",
    "    # TODO: Implement numerical differentiation of curve function:\n",
    "    return np.asarray([-np.sin(2*np.pi * t_values), np.cos(2 * np.pi * t_values), np.zeros_like(t_values)]).T"
   ]
  },
  {
   "cell_type": "code",
   "execution_count": 7,
   "metadata": {},
   "outputs": [],
   "source": [
    "def numerical_tangent_function(t_values, curve_tangent_function, h = 0.001):\n",
    "    \"\"\"\n",
    "    Compute the 4th-order central difference approximation of the derivative of f at t.\n",
    "\n",
    "    Parameters:\n",
    "    - f: function, the function to differentiate\n",
    "    - t: float, the point at which to compute the derivative\n",
    "    - h: float, the step size\n",
    "\n",
    "    Returns:\n",
    "    - float, the approximate derivative at t\n",
    "    \"\"\"\n",
    "    \n",
    "    def compute_4th_order_approximation(t):\n",
    "        f = curve_tangent_function\n",
    "        return (1 / (12 * h)) * (-f(t + 2 * h) + 8 * f(t + h) - 8 * f(t - h) + f(t - 2*h))\n",
    "    \n",
    "    return np.array([compute_4th_order_approximation(t) for t in t_values])"
   ]
  },
  {
   "cell_type": "code",
   "execution_count": 8,
   "metadata": {},
   "outputs": [],
   "source": [
    "simple_curve_tangent = numerical_tangent_function(t_values, curve_function)"
   ]
  },
  {
   "cell_type": "markdown",
   "metadata": {},
   "source": [
    "# Dirac-delta representation of a curve\n",
    "\n",
    "## Initial thought\n",
    "\n",
    "As the original authors defined, we can create a representation of a curve $\\Gamma$ by considering a two form $\\omega \\in \\Omega^2(M)$.\n",
    "$\\omega = g_1 dx^2 \\wedge dx^3 + g_2 dx^3 \\wedge dx^1 + g_3 dx^1 \\wedge dx^2$.\n",
    "\n",
    "The coefficients $g_1, g_2, g_3$ tell the direction of the curve. For example, a curve $\\gamma : [0, 1] \\to \\mathbb{R}^3, \\gamma(t) = (\\cos(2\\pi t), \\sin(2\\pi t), 0)$ can be represented as the 2-form\n",
    "\n",
    "$$\n",
    "\\omega = \\cos(2\\pi t) dx^2 \\wedge dx^3 + \\sin(2\\pi t) dx^3 \\wedge dx^1 + 0 dx^1 \\wedge dx^2\n",
    "$$\n",
    "\n",
    "This comes mathematically from the notion that we can identify each 2-form with an isomorphism to the space of vector fields, $(\\star\\omega)^\\# = g_i \\mathbf{e}^i$ where vectors $\\mathbf{e}^i$ form the standard orthonormal basis for $M = \\mathbb{R}^3$.\n",
    "\n",
    "### Note on notation:\n",
    "\n",
    "We use the Einstein summation convention, for example in the musical isomorphism we have a lower and upper index $i$ which signals that we want to sum those elements. Usually we try to keep the upper indices to be associated with vectors and differential forms, as opposed to lower indices with functions.\n",
    "\n",
    "\n",
    "## $\\delta_\\Gamma$ form\n",
    "\n",
    "The initial thought was a good start but does not capture our curve $\\Gamma$ explicitly since there are multiple different curves which could have the same differential form representation (for the simple circle, think about extending the radius by 1).\n",
    "\n",
    "We can fix this by augmenting the form $\\omega$ to have infinite \"magnitude\" on the curve $\\Gamma$ and $0$ everywhere else. Formally, we consider the Dirac-delta form $\\delta_\\Gamma$ to be the associated 2-form to a sequence of vector fields. The vector fields are defined as\n",
    "\n",
    "$$\n",
    "\\mathbf{v}_\\Gamma^\\epsilon(\\mathbf{x}) = \\begin{cases}\n",
    "\\frac{1}{\\epsilon^2 \\pi} \\mathbf{T}_\\Gamma (\\mathbf{x}^*), \\text{ if } |x - x^*| \\leq \\epsilon, x^* = \\arg \\min_{p \\in \\Sigma}|x - p|\\\\\n",
    "0, \\text{ otherwise}\n",
    "\\end{cases}\n",
    "$$\n",
    "\n",
    "and the dirac-delta form $\\delta_\\Gamma$ is the limit of these vector fields.  \n",
    "The limit is defined in the sense that for any 1-form $\\eta \\in \\Omega(M)$ and its associated vector field $\\eta^\\#$ the line integral \n",
    "\n",
    "$$\n",
    "\\int_M \\eta^\\# \\cdot \\mathbf{v}_\\Gamma^\\epsilon dV\n",
    "$$ \n",
    "\n",
    "approaches the integral of the 1-form on the curve $\\Gamma$, namely $\\int_\\Gamma \\eta$\n",
    ", as $\\epsilon \\to 0$."
   ]
  },
  {
   "cell_type": "code",
   "execution_count": 9,
   "metadata": {},
   "outputs": [],
   "source": [
    "def dirac_delta_vector_field(x: np.array, distance_epsilon: float, curve_values, curve_tangent_values) -> np.array:\n",
    "    # Compute the distance to input point\n",
    "    # For every point on curve and every point in M, compute the L2 squared distance\n",
    "    distances = []\n",
    "    for point in curve_values:\n",
    "        l2_squared = np.sum((x - point) ** 2, axis = 1)\n",
    "        distances.append(l2_squared)\n",
    "    distances = np.asarray(distances)\n",
    "\n",
    "    # Get the minimum distances, for each point in M, obtain closest point p in curve Gamma:\n",
    "    min_distance_indices = np.argmin(distances, axis = 0)\n",
    "    minimum_points = curve_values[min_distance_indices, :]\n",
    "\n",
    "    # Tangent vector points:\n",
    "    tangent_vector_locations = curve_tangent_values[min_distance_indices]\n",
    "\n",
    "    # Determine if the minimum distance x - x^* is less than epsilon:\n",
    "    should_place_vector = np.asarray(np.linalg.norm(x - minimum_points, axis = 1) <= distance_epsilon)\n",
    "\n",
    "    # Create the final vector field by placing tangent vectors at the appropriate points:\n",
    "    curve_vector_field = (should_place_vector * np.ones((x.shape[1], 1))).T * tangent_vector_locations\n",
    "    return curve_vector_field"
   ]
  },
  {
   "cell_type": "code",
   "execution_count": 10,
   "metadata": {},
   "outputs": [
    {
     "name": "stdout",
     "output_type": "stream",
     "text": [
      "[[ 0. -0.  0.]\n",
      " [ 0. -0.  0.]\n",
      " [ 0. -0.  0.]\n",
      " ...\n",
      " [-0.  0.  0.]\n",
      " [-0.  0.  0.]\n",
      " [-0.  0.  0.]]\n"
     ]
    }
   ],
   "source": [
    "#flattened_M = np.asarray([[1, 0, 0], [0, 1, 0], [np.cos(np.pi / 4), np.sin(np.pi / 4), 0], [0, 0, 0], [1, 1, 0]])\n",
    "dirac_delta_epsilon = grid_size * 8\n",
    "circle_vector_field = dirac_delta_vector_field(flattened_M, dirac_delta_epsilon, simple_curve, simple_curve_tangent)\n",
    "print(circle_vector_field)\n"
   ]
  },
  {
   "cell_type": "code",
   "execution_count": 11,
   "metadata": {},
   "outputs": [],
   "source": [
    "# nonzero_vector_indices = np.where(circle_vector_field != 0)[0]\n",
    "# for p in nonzero_vector_indices:\n",
    "#     print(f\"{flattened_M[p]} : {circle_vector_field[p]}\")"
   ]
  },
  {
   "cell_type": "code",
   "execution_count": 12,
   "metadata": {},
   "outputs": [
    {
     "data": {
      "text/html": [
       "<pre style=\"white-space:pre;overflow-x:auto;line-height:normal;font-family:Menlo,'DejaVu Sans Mono',consolas,'Courier New',monospace\">Manim Community <span style=\"color: #008000; text-decoration-color: #008000\">v0.18.1</span>\n",
       "\n",
       "</pre>\n"
      ],
      "text/plain": [
       "Manim Community \u001b[32mv0.\u001b[0m\u001b[32m18.1\u001b[0m\n",
       "\n"
      ]
     },
     "metadata": {},
     "output_type": "display_data"
    },
    {
     "name": "stderr",
     "output_type": "stream",
     "text": [
      "                                                            \r"
     ]
    },
    {
     "data": {
      "text/html": [
       "<video src=\"media/jupyter/VectorField3D@2025-01-11@19-08-19.mp4\" controls autoplay loop style=\"max-width: 60%;\"  >\n",
       "      Your browser does not support the <code>video</code> element.\n",
       "    </video>"
      ],
      "text/plain": [
       "<IPython.core.display.Video object>"
      ]
     },
     "metadata": {},
     "output_type": "display_data"
    }
   ],
   "source": [
    "%%manim -v WARNING -ql --disable_caching VectorField3D\n",
    "class VectorField3D(ThreeDScene):\n",
    "    def construct(self):\n",
    "        # Set up the axes\n",
    "        axes = ThreeDAxes(\n",
    "            x_range=[-2, 2, 0.2],\n",
    "            y_range=[-2, 2, 0.2],\n",
    "            z_range=[-2, 2, 0.2],\n",
    "        )\n",
    "        self.add(axes)\n",
    "\n",
    "        # Define the vector field function\n",
    "        def vector_field_func(point):\n",
    "            # Find closest point\n",
    "            distances_to_point = np.sum((flattened_M - point) ** 2, axis = 1)\n",
    "            closest_point = np.argmin(distances_to_point)\n",
    "            tangent_vector = circle_vector_field[closest_point]\n",
    "            norm = np.linalg.norm(tangent_vector)\n",
    "            normalized_vector = (tangent_vector / (norm + 1E-9)) * 0.4\n",
    "            return normalized_vector\n",
    "\n",
    "        vf = ArrowVectorField(vector_field_func, x_range=[0, 1, 0.05], y_range=[0, 1, 0.05], z_range=[0, 1, 0.05])\n",
    "        vf.fit_to_coordinate_system(axes)\n",
    "        self.add(vf)\n",
    "\n",
    "        # Set up 3D camera rotation\n",
    "        self.set_camera_orientation(phi=75 * DEGREES)\n",
    "        self.wait(2)\n",
    "        self.begin_ambient_camera_rotation(rate=0.1)\n",
    "        self.wait(10)"
   ]
  },
  {
   "cell_type": "markdown",
   "metadata": {},
   "source": []
  }
 ],
 "metadata": {
  "kernelspec": {
   "display_name": "minimal_surface",
   "language": "python",
   "name": "python3"
  },
  "language_info": {
   "codemirror_mode": {
    "name": "ipython",
    "version": 3
   },
   "file_extension": ".py",
   "mimetype": "text/x-python",
   "name": "python",
   "nbconvert_exporter": "python",
   "pygments_lexer": "ipython3",
   "version": "3.10.13"
  }
 },
 "nbformat": 4,
 "nbformat_minor": 2
}
