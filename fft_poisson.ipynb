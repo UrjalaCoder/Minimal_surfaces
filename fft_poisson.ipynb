{
 "cells": [
  {
   "cell_type": "markdown",
   "metadata": {},
   "source": [
    "# Poisson solution with FFT\n",
    "\n",
    "## Problem\n",
    "\n",
    "As a subroutine for the main algorithm. We need the ability to solve Poisson differential equations. In other words, equations of the form\n",
    "\n",
    "$$\n",
    "\\begin{align*}\n",
    "\\Delta \\phi(x, y, z) &= f(x, y, z), \\forall (x, y, z) \\in [0, L_x] \\times [0, L_y] \\times [0, L_z] \\\\\n",
    "\\phi (0, y) &= \\phi (L_x, y), \\phi (x, 0) = \\phi (x, L_y) \\\\\n",
    "\\phi_x (0, y) &= \\phi_x (L_x, y), \\phi_y (x, 0) = \\phi_y (x, L_y) \\\\\n",
    "\\end{align*}\n",
    "$$,\n",
    "\n",
    "a Poisson equation with periodic boundary constraints.  \n",
    "To simplify the problem without much loss for generality, we set $L_x = L_y = L_z = 1$. Therefore, the domain $\\Omega = [0, 1]^3$.\n",
    "\n",
    "## Solution\n",
    "\n",
    "The textbook way of solving these types of differential equations is to consider a Fourier series expansion forms of the functions $\\phi$ and $f$.\n",
    "\n",
    "\n",
    "\n",
    "## Discretization\n",
    "\n",
    "However, as we're dealing with discrete data points, we only have access to the function values at specific points. \n",
    "\n"
   ]
  },
  {
   "cell_type": "code",
   "execution_count": 1,
   "metadata": {},
   "outputs": [],
   "source": [
    "import matplotlib as plt"
   ]
  },
  {
   "cell_type": "code",
   "execution_count": null,
   "metadata": {},
   "outputs": [],
   "source": []
  }
 ],
 "metadata": {
  "kernelspec": {
   "display_name": "minimal_surface",
   "language": "python",
   "name": "python3"
  },
  "language_info": {
   "codemirror_mode": {
    "name": "ipython",
    "version": 3
   },
   "file_extension": ".py",
   "mimetype": "text/x-python",
   "name": "python",
   "nbconvert_exporter": "python",
   "pygments_lexer": "ipython3",
   "version": "3.10.13"
  }
 },
 "nbformat": 4,
 "nbformat_minor": 2
}
