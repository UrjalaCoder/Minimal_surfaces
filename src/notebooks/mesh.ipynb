{
 "cells": [
  {
   "cell_type": "code",
   "execution_count": 1,
   "metadata": {},
   "outputs": [],
   "source": [
    "import matplotlib.pyplot as plt\n",
    "import numpy as np\n",
    "from manim import *"
   ]
  },
  {
   "cell_type": "code",
   "execution_count": 2,
   "metadata": {},
   "outputs": [],
   "source": [
    "import numpy as np\n",
    "\n",
    "class TriangularMesh:\n",
    "    def __init__(self, vertices, faces):\n",
    "        \"\"\"\n",
    "        Initializes the triangular mesh.\n",
    "\n",
    "        :param vertices: List of 3D vertices as numpy arrays (Nx3).\n",
    "        :param faces: List of faces defined by vertex indices (Mx3).\n",
    "        \"\"\"\n",
    "        self.vertices = np.array(vertices)  # Nx3 array of vertices\n",
    "        self.faces = np.array(faces)        # Mx3 array of face indices\n",
    "\n",
    "    def add_vertex(self, vertex):\n",
    "        \"\"\"Adds a new vertex to the mesh.\"\"\"\n",
    "        self.vertices = np.vstack([self.vertices, vertex])\n",
    "\n",
    "    def add_face(self, face):\n",
    "        \"\"\"Adds a new triangular face to the mesh.\"\"\"\n",
    "        self.faces = np.vstack([self.faces, face])\n",
    "\n",
    "    def get_edges(self):\n",
    "        \"\"\"Returns a list of edges defined by the mesh faces.\"\"\"\n",
    "        edges = []\n",
    "        for face in self.faces:\n",
    "            edges.extend([(face[i], face[(i + 1) % 3]) for i in range(3)])\n",
    "        return edges\n",
    "\n",
    "    def debug_mesh(self):\n",
    "        \"\"\"Print the mesh vertices and faces for debugging.\"\"\"\n",
    "        print(\"Vertices:\")\n",
    "        print(self.vertices)\n",
    "        print(\"Faces (Triangles):\")\n",
    "        print(self.faces)\n"
   ]
  },
  {
   "cell_type": "code",
   "execution_count": 3,
   "metadata": {},
   "outputs": [
    {
     "data": {
      "text/plain": [
       "[(np.int64(0), np.int64(1)),\n",
       " (np.int64(1), np.int64(4)),\n",
       " (np.int64(4), np.int64(0)),\n",
       " (np.int64(1), np.int64(2)),\n",
       " (np.int64(2), np.int64(4)),\n",
       " (np.int64(4), np.int64(1)),\n",
       " (np.int64(2), np.int64(3)),\n",
       " (np.int64(3), np.int64(4)),\n",
       " (np.int64(4), np.int64(2)),\n",
       " (np.int64(3), np.int64(0)),\n",
       " (np.int64(0), np.int64(4)),\n",
       " (np.int64(4), np.int64(3)),\n",
       " (np.int64(0), np.int64(1)),\n",
       " (np.int64(1), np.int64(2)),\n",
       " (np.int64(2), np.int64(0)),\n",
       " (np.int64(0), np.int64(2)),\n",
       " (np.int64(2), np.int64(3)),\n",
       " (np.int64(3), np.int64(0))]"
      ]
     },
     "execution_count": 3,
     "metadata": {},
     "output_type": "execute_result"
    }
   ],
   "source": [
    "\n",
    "vertices = [\n",
    "    [1, 1, 0], [1, -1, 0], [-1, -1, 0], [-1, 1, 0],  # square base\n",
    "    [0, 0, 2]  # top vertex of the pyramid\n",
    "]\n",
    "faces = [\n",
    "    [0, 1, 4], [1, 2, 4], [2, 3, 4], [3, 0, 4],  # side faces\n",
    "    [0, 1, 2], [0, 2, 3]  # base faces\n",
    "]\n",
    "\n",
    "mesh = TriangularMesh(vertices, faces)\n",
    "mesh.get_edges()"
   ]
  },
  {
   "cell_type": "code",
   "execution_count": 4,
   "metadata": {},
   "outputs": [
    {
     "data": {
      "text/html": [
       "<pre style=\"white-space:pre;overflow-x:auto;line-height:normal;font-family:Menlo,'DejaVu Sans Mono',consolas,'Courier New',monospace\">Manim Community <span style=\"color: #008000; text-decoration-color: #008000\">v0.18.1</span>\n",
       "\n",
       "</pre>\n"
      ],
      "text/plain": [
       "Manim Community \u001b[32mv0.\u001b[0m\u001b[32m18.1\u001b[0m\n",
       "\n"
      ]
     },
     "metadata": {},
     "output_type": "display_data"
    },
    {
     "name": "stderr",
     "output_type": "stream",
     "text": [
      "                                                             \r"
     ]
    },
    {
     "data": {
      "text/html": [
       "<video src=\"media/jupyter/Mesh3DScene@2025-01-26@10-05-26.mp4\" controls autoplay loop style=\"max-width: 60%;\"  >\n",
       "      Your browser does not support the <code>video</code> element.\n",
       "    </video>"
      ],
      "text/plain": [
       "<IPython.core.display.Video object>"
      ]
     },
     "metadata": {},
     "output_type": "display_data"
    }
   ],
   "source": [
    "%%manim -v WARNING -ql --disable_caching Mesh3DScene\n",
    "\n",
    "class Mesh3DScene(ThreeDScene):\n",
    "    def construct(self):\n",
    "    \n",
    "        # Visualize the mesh\n",
    "        mesh_mobject = self.create_mesh_mobject(mesh)\n",
    "        self.add(mesh_mobject)\n",
    "\n",
    "        # Camera\n",
    "        self.set_camera_orientation(phi=75 * DEGREES)\n",
    "        self.begin_ambient_camera_rotation(rate=0.1)\n",
    "\n",
    "        # Show the scene\n",
    "        self.wait(30)\n",
    "\n",
    "    def create_mesh_mobject(self, mesh):\n",
    "        \"\"\"Converts the triangular mesh to a manim Mobject.\"\"\"\n",
    "        mesh_mobject = VGroup()\n",
    "        \n",
    "        for face in mesh.faces:\n",
    "            points = mesh.vertices[face]\n",
    "            polygon = Polygon(*points, color=BLUE, fill_opacity=0.5)\n",
    "            mesh_mobject.add(polygon)\n",
    "\n",
    "        return mesh_mobject\n"
   ]
  },
  {
   "cell_type": "code",
   "execution_count": null,
   "metadata": {},
   "outputs": [],
   "source": []
  }
 ],
 "metadata": {
  "kernelspec": {
   "display_name": "minimal_surface",
   "language": "python",
   "name": "python3"
  },
  "language_info": {
   "codemirror_mode": {
    "name": "ipython",
    "version": 3
   },
   "file_extension": ".py",
   "mimetype": "text/x-python",
   "name": "python",
   "nbconvert_exporter": "python",
   "pygments_lexer": "ipython3",
   "version": "3.10.13"
  }
 },
 "nbformat": 4,
 "nbformat_minor": 2
}
