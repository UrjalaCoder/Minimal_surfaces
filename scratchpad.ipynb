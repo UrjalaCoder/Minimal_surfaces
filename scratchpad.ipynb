{
 "cells": [
  {
   "cell_type": "code",
   "execution_count": 3,
   "metadata": {},
   "outputs": [],
   "source": [
    "import numpy as np\n",
    "import pandas as pd\n",
    "import matplotlib.pyplot as plt\n",
    "import plotly.graph_objects as go"
   ]
  },
  {
   "cell_type": "code",
   "execution_count": null,
   "metadata": {
    "slideshow": {
     "slide_type": "notes"
    }
   },
   "outputs": [],
   "source": [
    "%%manim -v WARNING -ql CurveRepresentation\n",
    "class CurveRepresentation(ThreeDScene):\n",
    "    def construct(self):\n",
    "        # Create the vector field\n",
    "        simple_curve = ParametricFunction(curve_function, t_range = (0, 1)).set_color(RED)\n",
    "        axes = ThreeDAxes(x_range=(-1, 1), y_range=(-1, 1), z_range=(-1, 1), x_length=4, y_length=4, z_length=4)\n",
    "        \n",
    "        # Add to scene\n",
    "        self.add(axes)\n",
    "        self.play(Write(simple_curve), run_time = 3.0)\n",
    "        self.move_camera(phi = 0.75, run_time = 2.0, zoom = 2)\n",
    "        self.begin_ambient_camera_rotation(rate=0.1)\n",
    "        self.wait(10)"
   ]
  }
 ],
 "metadata": {
  "kernelspec": {
   "display_name": "minimal_surface",
   "language": "python",
   "name": "python3"
  },
  "language_info": {
   "codemirror_mode": {
    "name": "ipython",
    "version": 3
   },
   "file_extension": ".py",
   "mimetype": "text/x-python",
   "name": "python",
   "nbconvert_exporter": "python",
   "pygments_lexer": "ipython3",
   "version": "3.10.13"
  }
 },
 "nbformat": 4,
 "nbformat_minor": 2
}
