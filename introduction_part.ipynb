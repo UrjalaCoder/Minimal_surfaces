{
 "cells": [
  {
   "cell_type": "markdown",
   "metadata": {},
   "source": [
    "# Minimal surfaces with differential forms"
   ]
  },
  {
   "cell_type": "markdown",
   "metadata": {
    "vscode": {
     "languageId": "plaintext"
    }
   },
   "source": [
    "## Introduction\n",
    "\n",
    "Welcome! \n",
    "\n",
    "This blog post is the first in a series of posts discussing and solving the famous Plateau's problem in geometry.\n",
    "\n",
    "In this introductory post, we will state and define the problem rigorously, discuss on some of the most common approaches to solving it.\n",
    "\n",
    "## Plateau's Problem\n",
    "\n",
    "### Definition\n",
    "\n",
    "Let $M$ be a three-dimensional compact ambient space, assumed to be a bounded subset $M \\subset \\mathbb{R}^3$ with the Euclidean metric. The classical Plateau problem is formulated as follows:\n",
    "\n",
    "> Given a closed curve $\\Gamma \\subset M$, find an oriented surface $\\Sigma \\subset M$ bordered by $\\Gamma$ that minimizes the area functional.\n",
    "\n",
    "Mathematically, this problem is expressed as:\n",
    "\n",
    "$$\n",
    "\\min_{\\Sigma \\, : \\, \\partial \\Sigma = \\Gamma} \\text{Area}(\\Sigma).\n",
    "$$\n",
    "\n",
    "### Examples\n",
    "\n",
    "For example, the circle $\\Gamma = \\mathbb{S}^1$ has a simple disk solution as its minimal surface.\n",
    "\n",
    "!TODO: Place photo here!\n",
    "\n",
    "And for a more complex example, the helix with a central trunk\n",
    "\n",
    "## Common solution methods\n",
    "\n",
    "Many different approaches to this problem have been posited, for example\n",
    "\n",
    "- In 1927 Jesse Douglas created a finite difference method for solving this problem [1].\n",
    "- Mean curvature flow based approach in 1990 by Dziuk et al.\n",
    "- $H^1$ Sobolev gradient flow approach in 1993 by Pinkall and Polthier\n",
    "\n",
    "However, our solution method is based on more recent mathematical theory, more specifically it relies on the machinery of *geometric measure theory* where we model surfaces and curves as **integral currents**.  \n",
    "\n",
    "We will continue discussion of our solution in the [next part]().\n",
    "\n",
    "# References"
   ]
  }
 ],
 "metadata": {
  "language_info": {
   "name": "python"
  }
 },
 "nbformat": 4,
 "nbformat_minor": 2
}
